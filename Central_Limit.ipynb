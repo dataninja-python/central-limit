{
 "cells": [
  {
   "cell_type": "code",
   "execution_count": 1,
   "metadata": {},
   "outputs": [],
   "source": [
    "import numpy as np\n",
    "import pandas as pd\n",
    "import seaborn as sns\n",
    "# import scipy\n",
    "from scipy.stats import ttest_ind\n",
    "import matplotlib.pyplot as plt\n",
    "sns.set_style('dark')\n",
    "%matplotlib inline"
   ]
  },
  {
   "cell_type": "code",
   "execution_count": 2,
   "metadata": {},
   "outputs": [
    {
     "data": {
      "image/png": "[encoded data removed]",
      "text/plain": [
       "<matplotlib.figure.Figure at 0x7efc9bd421d0>"
      ]
     },
     "metadata": {},
     "output_type": "display_data"
    }
   ],
   "source": [
    "def graph_hist(population1, population2, histname1, histname2):\n",
    "    plt.figure(figsize=(10, 5))\n",
    "    plt.hist(population1, alpha=0.5, label=histname1) \n",
    "    plt.hist(population2, alpha=0.5, label=histname2) \n",
    "    plt.legend(loc='upper right')\n",
    "    plt.grid()\n",
    "    plt.show()\n",
    "    \n",
    "def graph_one_hist(population1, histname1):\n",
    "    plt.figure(figsize=(10, 5))\n",
    "    plt.hist(population1, alpha=0.5, label=histname1)  \n",
    "    plt.legend(loc='upper right')\n",
    "    plt.grid()\n",
    "    plt.show()\n",
    "\n",
    "n = 10\n",
    "size = 10000\n",
    "p1 = 0.2\n",
    "p2 = 0.5\n",
    "sample_size = 100\n",
    "\n",
    "pop1 = np.random.binomial(n, p1, size)\n",
    "pop2 = np.random.binomial(n, p2, size)\n",
    "\n",
    "pop1_name = \"Population 1\"\n",
    "pop2_name = \"Population 2\"\n",
    "graph_hist(pop1, pop2, pop1_name, pop2_name)"
   ]
  },
  {
   "cell_type": "markdown",
   "metadata": {},
   "source": [
    "Just as in the examples from the prior training section, we see the populations are not normal.  Though population 2 appears to be more normally distributed than population 1.  Now, we proceed with taking a smaller sample of 100 from each population and calculating the (a) mean and (b) standard deviations."
   ]
  },
  {
   "cell_type": "code",
   "execution_count": 3,
   "metadata": {},
   "outputs": [
    {
     "name": "stdout",
     "output_type": "stream",
     "text": [
      "For Sample #1, the mean and standard deviation are 1.97 and 1.2037856952132304, respectively.\n",
      "For Sample #2, the mean and standard deviation are 2.03 and 1.3300751858447704, respectively.\n"
     ]
    }
   ],
   "source": [
    "def mean_std(sample_pop):\n",
    "    return sample_pop.mean(), sample_pop.std()\n",
    "\n",
    "def create_sample(population, sample_size):\n",
    "    return np.random.choice(population, sample_size, replace=True)\n",
    "\n",
    "sample = 100\n",
    "sample1 = create_sample(pop1, sample)\n",
    "sample2 = create_sample(pop1, sample)\n",
    "sample1_mean, sample1_std = mean_std(sample1)\n",
    "sample2_mean, sample2_std = mean_std(sample2)\n",
    "\n",
    "print('For {}, the mean and standard deviation are {} and {}, respectively.'.\\\n",
    "      format('Sample #1', sample1_mean, sample1_std))\n",
    "\n",
    "print('For {}, the mean and standard deviation are {} and {}, respectively.'.\\\n",
    "      format('Sample #2', sample2_mean, sample2_std))"
   ]
  },
  {
   "cell_type": "markdown",
   "metadata": {},
   "source": [
    "Looking at histograms of the samples should provide some insights into how the samples may differ from the full populations.  So, we will graph the samples as we did the populations."
   ]
  },
  {
   "cell_type": "code",
   "execution_count": 4,
   "metadata": {},
   "outputs": [
    {
     "data": {
      "image/png": "[encoded data removed]",
      "text/plain": [
       "<matplotlib.figure.Figure at 0x7efc933f27b8>"
      ]
     },
     "metadata": {},
     "output_type": "display_data"
    }
   ],
   "source": [
    "sample1_name = \"Sample 1\"\n",
    "sample2_name = \"Sample 2\"\n",
    "graph_hist(sample1, sample2, sample1_name, sample2_name)"
   ]
  },
  {
   "cell_type": "markdown",
   "metadata": {},
   "source": [
    "Interestingly, this histogram of the samples suggests the two populations are more similar - have more overlap - than the one created using the full population data.  At this point, my guess is an increase in sample size brings the sample statistics closer to that of the population while the inverse is also true. "
   ]
  },
  {
   "cell_type": "markdown",
   "metadata": {},
   "source": [
    "__ #1: Increase the size of your samples from 100 to 1000, then calculate the means and standard deviations for your new samples and create histograms for each. Repeat this again, decreasing the size of your samples to 20. What values change, and what remain the same?__"
   ]
  },
  {
   "cell_type": "markdown",
   "metadata": {},
   "source": [
    "*Expectation:*\n",
    "\n",
    "As sample sizes decrease, I expect our results to be less representative of the actual population.  Thus, I expect variance to increase making any analysis less reliable."
   ]
  },
  {
   "cell_type": "code",
   "execution_count": 5,
   "metadata": {},
   "outputs": [
    {
     "name": "stdout",
     "output_type": "stream",
     "text": [
      "For Sample #1, the mean and standard deviation are 2.03 and 1.2965724044572289, respectively.\n",
      "For Sample #2, the mean and standard deviation are 1.989 and 1.3125848543998975, respectively.\n"
     ]
    }
   ],
   "source": [
    "sample = 1000\n",
    "sample1a = create_sample(pop1, sample)\n",
    "sample2a = create_sample(pop1, sample)\n",
    "sample1_meana, sample1_stda = mean_std(sample1a)\n",
    "sample2_meana, sample2_stda = mean_std(sample2a)\n",
    "\n",
    "print('For {}, the mean and standard deviation are {} and {}, respectively.'.\\\n",
    "      format('Sample #1', sample1_meana, sample1_stda))\n",
    "\n",
    "print('For {}, the mean and standard deviation are {} and {}, respectively.'.\\\n",
    "      format('Sample #2', sample2_meana, sample2_stda))"
   ]
  },
  {
   "cell_type": "code",
   "execution_count": 6,
   "metadata": {},
   "outputs": [
    {
     "data": {
      "image/png": "[encoded data removed]",
      "text/plain": [
       "<matplotlib.figure.Figure at 0x7efc9d303518>"
      ]
     },
     "metadata": {},
     "output_type": "display_data"
    }
   ],
   "source": [
    "sample1_namea = \"Sample 1 - 1000\"\n",
    "sample2_namea = \"Sample 2 - 1000\"\n",
    "graph_hist(sample1a, sample2a, sample1_namea, sample2_namea)"
   ]
  },
  {
   "cell_type": "code",
   "execution_count": 7,
   "metadata": {},
   "outputs": [
    {
     "name": "stdout",
     "output_type": "stream",
     "text": [
      "For Sample #1, the mean and standard deviation are 2.1 and 1.1357816691600549, respectively.\n",
      "For Sample #2, the mean and standard deviation are 1.95 and 1.4309088021254184, respectively.\n"
     ]
    }
   ],
   "source": [
    "sample = 20\n",
    "sample1b = create_sample(pop1, sample)\n",
    "sample2b = create_sample(pop1, sample)\n",
    "sample1_meanb, sample1_stdb = mean_std(sample1b)\n",
    "sample2_meanb, sample2_stdb = mean_std(sample2b)\n",
    "\n",
    "print('For {}, the mean and standard deviation are {} and {}, respectively.'.\\\n",
    "      format('Sample #1', sample1_meanb, sample1_stdb))\n",
    "\n",
    "print('For {}, the mean and standard deviation are {} and {}, respectively.'.\\\n",
    "      format('Sample #2', sample2_meanb, sample2_stdb))"
   ]
  },
  {
   "cell_type": "code",
   "execution_count": 8,
   "metadata": {},
   "outputs": [
    {
     "data": {
      "image/png": "[encoded data removed]",
      "text/plain": [
       "<matplotlib.figure.Figure at 0x7efc9330b748>"
      ]
     },
     "metadata": {},
     "output_type": "display_data"
    }
   ],
   "source": [
    "sample1_nameb = \"Sample 1 - 20\"\n",
    "sample2_nameb = \"Sample 2 - 20\"\n",
    "graph_hist(sample1b, sample2b, sample1_nameb, sample2_nameb)"
   ]
  },
  {
   "cell_type": "code",
   "execution_count": 9,
   "metadata": {},
   "outputs": [
    {
     "name": "stdout",
     "output_type": "stream",
     "text": [
      "-0.07000000000000028\n",
      "0.039000000000000146\n"
     ]
    }
   ],
   "source": [
    "print(sample1_meana - sample1_meanb)\n",
    "print(sample2_meana - sample2_meanb)"
   ]
  },
  {
   "cell_type": "code",
   "execution_count": 10,
   "metadata": {},
   "outputs": [
    {
     "name": "stdout",
     "output_type": "stream",
     "text": [
      "0.16079073529717403\n",
      "-0.1183239477255209\n"
     ]
    }
   ],
   "source": [
    "print(sample1_stda - sample1_stdb)\n",
    "print(sample2_stda - sample2_stdb)"
   ]
  },
  {
   "cell_type": "markdown",
   "metadata": {},
   "source": [
    "The means increase as we decrease the sample size.  While for sample 1 the standard deviation decreases with the smaller sample size, it increases for sample 2."
   ]
  },
  {
   "cell_type": "markdown",
   "metadata": {},
   "source": [
    "__ #2: Change the probability value (p in the NumPy documentation) for pop1 to 0.3, then take new samples and compute the t-statistic and p-value. Then change the probability value p for group 1 to 0.4, and do it again. What changes, and why?__"
   ]
  },
  {
   "cell_type": "markdown",
   "metadata": {},
   "source": [
    "*Expectation:*\n",
    "\n",
    "I suspect that as the probability value approaches 50% the variance due to noise will increase.  Thus, the t-value will increase and p-value will also increase."
   ]
  },
  {
   "cell_type": "code",
   "execution_count": 11,
   "metadata": {},
   "outputs": [
    {
     "data": {
      "image/png": "[encoded data removed]",
      "text/plain": [
       "<matplotlib.figure.Figure at 0x7efc9337bf98>"
      ]
     },
     "metadata": {},
     "output_type": "display_data"
    }
   ],
   "source": [
    "n = 10\n",
    "size = 10000\n",
    "p1 = 0.3\n",
    "\n",
    "pop1a = np.random.binomial(n, p1, size)\n",
    "\n",
    "pop1_name_a = \"Population 1 (p=0.3)\"\n",
    "graph_one_hist(pop1a, pop1_name_a)"
   ]
  },
  {
   "cell_type": "code",
   "execution_count": 12,
   "metadata": {},
   "outputs": [
    {
     "name": "stdout",
     "output_type": "stream",
     "text": [
      "For Sample #1, the mean and standard deviation are 2.8 and 1.5556349186104046, respectively.\n",
      "For Sample #2, the mean and standard deviation are 3.1 and 1.4106735979665885, respectively.\n",
      "Ttest_indResult(statistic=1.4214106244380296, pvalue=0.15678547164413714)\n"
     ]
    }
   ],
   "source": [
    "# create new samples\n",
    "sample = 100\n",
    "sample1a = create_sample(pop1a, sample)\n",
    "sample2a = create_sample(pop1a, sample)\n",
    "sample1_meana, sample1_stda = mean_std(sample1a)\n",
    "sample2_meana, sample2_stda = mean_std(sample2a)\n",
    "\n",
    "print('For {}, the mean and standard deviation are {} and {}, respectively.'.\\\n",
    "      format('Sample #1', sample1_meana, sample1_stda))\n",
    "\n",
    "print('For {}, the mean and standard deviation are {} and {}, respectively.'.\\\n",
    "      format('Sample #2', sample2_meana, sample2_stda))\n",
    "\n",
    "# calculate t-value and p-value\n",
    "print(ttest_ind(sample2a, sample1a, equal_var=False))"
   ]
  },
  {
   "cell_type": "code",
   "execution_count": 13,
   "metadata": {},
   "outputs": [
    {
     "data": {
      "image/png": "[encoded data removed]",
      "text/plain": [
       "<matplotlib.figure.Figure at 0x7efc9322b2b0>"
      ]
     },
     "metadata": {},
     "output_type": "display_data"
    }
   ],
   "source": [
    "n = 10\n",
    "size = 10000\n",
    "p1 = 0.4\n",
    "\n",
    "pop1b = np.random.binomial(n, p1, size)\n",
    "\n",
    "pop1_name_b = \"Population 1 (p=0.4)\"\n",
    "graph_one_hist(pop1b, pop1_name_b)"
   ]
  },
  {
   "cell_type": "code",
   "execution_count": 14,
   "metadata": {},
   "outputs": [
    {
     "name": "stdout",
     "output_type": "stream",
     "text": [
      "For Sample #1, the mean and standard deviation are 4.04 and 1.3994284547628721, respectively.\n",
      "For Sample #2, the mean and standard deviation are 4.03 and 1.621449968392488, respectively.\n",
      "Ttest_indResult(statistic=-0.04645468918353532, pvalue=0.9629956684485175)\n"
     ]
    }
   ],
   "source": [
    "# create new samples\n",
    "sample = 100\n",
    "sample1b = create_sample(pop1b, sample)\n",
    "sample2b = create_sample(pop1b, sample)\n",
    "sample1_meanb, sample1_stdb = mean_std(sample1b)\n",
    "sample2_meanb, sample2_stdb = mean_std(sample2b)\n",
    "\n",
    "print('For {}, the mean and standard deviation are {} and {}, respectively.'.\\\n",
    "      format('Sample #1', sample1_meanb, sample1_stdb))\n",
    "\n",
    "print('For {}, the mean and standard deviation are {} and {}, respectively.'.\\\n",
    "      format('Sample #2', sample2_meanb, sample2_stdb))\n",
    "\n",
    "# calculate t-value and p-value\n",
    "print(ttest_ind(sample2b, sample1b, equal_var=False))"
   ]
  },
  {
   "cell_type": "code",
   "execution_count": 16,
   "metadata": {},
   "outputs": [
    {
     "data": {
      "image/png": "[encoded data removed]",
      "text/plain": [
       "<matplotlib.figure.Figure at 0x7efc93137ac8>"
      ]
     },
     "metadata": {},
     "output_type": "display_data"
    }
   ],
   "source": [
    "graph_hist(sample1a, sample2a, \"Sample 1 (p = 0.3)\", \"Sample 2 (p = 0.3)\")"
   ]
  },
  {
   "cell_type": "code",
   "execution_count": 17,
   "metadata": {},
   "outputs": [
    {
     "data": {
      "image/png": "[encoded data removed]",
      "text/plain": [
       "<matplotlib.figure.Figure at 0x7efc930bcda0>"
      ]
     },
     "metadata": {},
     "output_type": "display_data"
    }
   ],
   "source": [
    "graph_hist(sample1b, sample2b, \"Sample 1 (p = 0.4)\", \"Sample 1 (p = 0.4)\")"
   ]
  },
  {
   "cell_type": "markdown",
   "metadata": {},
   "source": [
    "My initial assumptions were incorrect for the t-value but appear more accurate for p-value."
   ]
  },
  {
   "cell_type": "code",
   "execution_count": 18,
   "metadata": {},
   "outputs": [
    {
     "data": {
      "image/png": "[encoded data removed]",
      "text/plain": [
       "<matplotlib.figure.Figure at 0x7efc934385c0>"
      ]
     },
     "metadata": {},
     "output_type": "display_data"
    }
   ],
   "source": [
    "n = 10\n",
    "size = 10000\n",
    "\n",
    "pop1 = np.random.poisson(n, size)\n",
    "pop2 = np.random.normal(5, 2, size)\n",
    "\n",
    "pop1_name = \"Population 1 (Poisson)\"\n",
    "pop2_name = \"Population 2 (Normal)\"\n",
    "graph_hist(pop1, pop2, pop1_name, pop2_name)"
   ]
  },
  {
   "cell_type": "code",
   "execution_count": 23,
   "metadata": {},
   "outputs": [
    {
     "name": "stdout",
     "output_type": "stream",
     "text": [
      "For Poplulation #1, the mean and standard deviation are 9.9635 and 3.1309371999450906, respectively.\n",
      "For Population #2, the mean and standard deviation are 4.9853888839135685 and 1.986854751970656, respectively.\n"
     ]
    }
   ],
   "source": [
    "pop1_mean, pop1_std = mean_std(pop1)\n",
    "pop2_mean, pop2_std = mean_std(pop2)\n",
    "\n",
    "print('For {}, the mean and standard deviation are {} and {}, respectively.'.\\\n",
    "      format('Poplulation #1', pop1_mean, pop1_std))\n",
    "\n",
    "print('For {}, the mean and standard deviation are {} and {}, respectively.'.\\\n",
    "      format('Population #2', pop2_mean, pop2_std))"
   ]
  },
  {
   "cell_type": "code",
   "execution_count": 27,
   "metadata": {},
   "outputs": [
    {
     "name": "stdout",
     "output_type": "stream",
     "text": [
      "Ttest_indResult(statistic=0.20825374766382232, pvalue=0.8352465803593887)\n",
      "Ttest_indResult(statistic=-0.08862514106896581, pvalue=0.9294702781582082)\n"
     ]
    }
   ],
   "source": [
    "sample = 100\n",
    "sample1a = create_sample(pop1, sample)\n",
    "sample2a = create_sample(pop1, sample)\n",
    "sample1b = create_sample(pop1, sample)\n",
    "sample2b = create_sample(pop1, sample)\n",
    "\n",
    "# calculate t-value and p-value\n",
    "print(ttest_ind(sample2a, sample1a, equal_var=False))\n",
    "\n",
    "# calculate t-value and p-value\n",
    "print(ttest_ind(sample2b, sample1b, equal_var=False))"
   ]
  },
  {
   "cell_type": "markdown",
   "metadata": {},
   "source": [
    "According to the t-values, sample means for both Poisson and Normal (as expected) distributions appear to reflect the population values."
   ]
  }
 ],
 "metadata": {
  "kernelspec": {
   "display_name": "Python 3",
   "language": "python",
   "name": "python3"
  },
  "language_info": {
   "codemirror_mode": {
    "name": "ipython",
    "version": 3
   },
   "file_extension": ".py",
   "mimetype": "text/x-python",
   "name": "python",
   "nbconvert_exporter": "python",
   "pygments_lexer": "ipython3",
   "version": "3.6.4"
  }
 },
 "nbformat": 4,
 "nbformat_minor": 2
}
